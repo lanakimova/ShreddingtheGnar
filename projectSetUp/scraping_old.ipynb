{
 "cells": [
  {
   "cell_type": "code",
   "execution_count": null,
   "metadata": {},
   "outputs": [],
   "source": [
    "# Scraping \n",
    "# https://www.skiresort.info/ski-resorts/usa/"
   ]
  },
  {
   "cell_type": "code",
   "execution_count": 22,
   "metadata": {},
   "outputs": [],
   "source": [
    "# Import dependencies\n",
    "import pandas as pd\n",
    "import requests\n",
    "import pymongo\n",
    "from splinter import Browser\n",
    "from bs4 import BeautifulSoup as bs\n",
    "from flask import Flask, render_template, redirect\n",
    "from flask_pymongo import PyMongo\n",
    "from webdriver_manager.chrome import ChromeDriverManager\n",
    "from pprint import pprint"
   ]
  },
  {
   "cell_type": "code",
   "execution_count": 23,
   "metadata": {},
   "outputs": [],
   "source": [
    "request = requests.get(\"https://www.skiresort.info/ski-resorts/usa/\")"
   ]
  },
  {
   "cell_type": "code",
   "execution_count": 24,
   "metadata": {},
   "outputs": [],
   "source": [
    "prep_soup = bs(request.text, 'html.parser')"
   ]
  },
  {
   "cell_type": "code",
   "execution_count": 58,
   "metadata": {},
   "outputs": [],
   "source": [
    "panel = prep_soup.find('div', class_= \"panel panel-primary\")"
   ]
  },
  {
   "cell_type": "code",
   "execution_count": 59,
   "metadata": {},
   "outputs": [],
   "source": [
    "# pprint(panel)"
   ]
  },
  {
   "cell_type": "code",
   "execution_count": 60,
   "metadata": {},
   "outputs": [],
   "source": [
    "pages = prep_soup.find('ul', class_= \"pagination pull-right\")"
   ]
  },
  {
   "cell_type": "code",
   "execution_count": 61,
   "metadata": {},
   "outputs": [],
   "source": [
    "links_with_text = []\n",
    "for a in pages.find_all('a', href=True): \n",
    "    if a.text: \n",
    "        links_with_text.append(a['href'])"
   ]
  },
  {
   "cell_type": "code",
   "execution_count": 62,
   "metadata": {},
   "outputs": [
    {
     "data": {
      "text/plain": [
       "['https://www.skiresort.info/ski-resorts/usa/',\n",
       " 'https://www.skiresort.info/ski-resorts/usa/',\n",
       " 'https://www.skiresort.info/ski-resorts/usa/',\n",
       " 'https://www.skiresort.info/ski-resorts/usa/page/2/',\n",
       " 'https://www.skiresort.info/ski-resorts/usa/page/3/',\n",
       " 'https://www.skiresort.info/ski-resorts/usa/page/4/',\n",
       " 'https://www.skiresort.info/ski-resorts/usa/page/2/',\n",
       " 'https://www.skiresort.info/ski-resorts/usa/page/4/']"
      ]
     },
     "execution_count": 62,
     "metadata": {},
     "output_type": "execute_result"
    }
   ],
   "source": [
    "links_with_text"
   ]
  },
  {
   "cell_type": "code",
   "execution_count": 71,
   "metadata": {},
   "outputs": [],
   "source": [
    "# name = panel.find_all(\"div\", class_= \"panel-body middle-padding\").find(\"div\", class_=\"col-sm-11 col-xs-10\")"
   ]
  },
  {
   "cell_type": "code",
   "execution_count": 86,
   "metadata": {},
   "outputs": [],
   "source": [
    "name = panel.find_all(\"div\", class_=\"panel panel-default resort-list-item resort-list-item-image--big\")"
   ]
  },
  {
   "cell_type": "code",
   "execution_count": 101,
   "metadata": {
    "scrolled": false
   },
   "outputs": [],
   "source": [
    "resort = []\n",
    "for x in name:\n",
    "    lists = x.find_all(\"a\", class_=\"h3\")\n",
    "#     print(\"-------------------------------------------\")\n",
    "    resort.append(lists)\n",
    "#     resort_name.append(resort.text)"
   ]
  },
  {
   "cell_type": "code",
   "execution_count": 102,
   "metadata": {},
   "outputs": [
    {
     "data": {
      "text/plain": [
       "[[<a class=\"h3\" href=\"https://www.skiresort.info/ski-resort/vail/\"> Vail </a>],\n",
       " [<a class=\"h3\" href=\"https://www.skiresort.info/ski-resort/telluride/\"> Telluride </a>],\n",
       " [<a class=\"h3\" href=\"https://www.skiresort.info/ski-resort/beaver-creek/\"> Beaver Creek </a>],\n",
       " [<a class=\"h3\" href=\"https://www.skiresort.info/ski-resort/mammoth-mountain/\"> Mammoth Mountain </a>],\n",
       " [<a class=\"h3\" href=\"https://www.skiresort.info/ski-resort/snowmass/\"> Snowmass </a>],\n",
       " [<a class=\"h3\" href=\"https://www.skiresort.info/ski-resort/breckenridge/\"> Breckenridge </a>],\n",
       " [<a class=\"h3\" href=\"https://www.skiresort.info/ski-resort/keystone/\"> Keystone </a>],\n",
       " [<a class=\"h3\" href=\"https://www.skiresort.info/ski-resort/sunday-river/\"> Sunday River </a>],\n",
       " [<a class=\"h3\" href=\"https://www.skiresort.info/ski-resort/killington/\"> Killington </a>],\n",
       " [<a class=\"h3\" href=\"https://www.skiresort.info/ski-resort/heavenly/\"> Heavenly </a>],\n",
       " [<a class=\"h3\" href=\"https://www.skiresort.info/ski-resort/winter-park-resort/\"> Winter Park Resort </a>],\n",
       " [<a class=\"h3\" href=\"https://www.skiresort.info/ski-resort/stowe/\"> Stowe </a>],\n",
       " [<a class=\"h3\" href=\"https://www.skiresort.info/ski-resort/squaw-valley/\"> Squaw Valley </a>],\n",
       " [<a class=\"h3\" href=\"https://www.skiresort.info/ski-resort/steamboat/\"> Steamboat </a>],\n",
       " [<a class=\"h3\" href=\"https://www.skiresort.info/ski-resort/park-city/\"> Park City </a>],\n",
       " [<a class=\"h3\" href=\"https://www.skiresort.info/ski-resort/big-sky-resort/\"> Big Sky Resort </a>],\n",
       " [<a class=\"h3\" href=\"https://www.skiresort.info/ski-resort/aspen-highlands/\"> Aspen Highlands </a>],\n",
       " [<a class=\"h3\" href=\"https://www.skiresort.info/ski-resort/copper-mountain/\"> Copper Mountain </a>],\n",
       " [<a class=\"h3\" href=\"https://www.skiresort.info/ski-resort/alpine-meadows/\"> Alpine Meadows </a>],\n",
       " [<a class=\"h3\" href=\"https://www.skiresort.info/ski-resort/alta/\"> Alta </a>],\n",
       " [<a class=\"h3\" href=\"https://www.skiresort.info/ski-resort/buttermilk-mountain/\"> Buttermilk Mountain </a>],\n",
       " [<a class=\"h3\" href=\"https://www.skiresort.info/ski-resort/jackson-hole/\"> Jackson Hole </a>],\n",
       " [<a class=\"h3\" href=\"https://www.skiresort.info/ski-resort/deer-valley/\"> Deer Valley </a>],\n",
       " [<a class=\"h3\" href=\"https://www.skiresort.info/ski-resort/crested-butte/\"> Crested Butte </a>],\n",
       " [<a class=\"h3\" href=\"https://www.skiresort.info/ski-resort/powder-mountain/\"> Powder Mountain </a>],\n",
       " [<a class=\"h3\" href=\"https://www.skiresort.info/ski-resort/whiteface-lake-placid/\"> Whiteface – Lake Placid </a>],\n",
       " [<a class=\"h3\" href=\"https://www.skiresort.info/ski-resort/northstar-california-resort/\"> Northstar California Resort </a>],\n",
       " [<a class=\"h3\" href=\"https://www.skiresort.info/ski-resort/mt-bachelor/\"> Mt. Bachelor </a>],\n",
       " [<a class=\"h3\" href=\"https://www.skiresort.info/ski-resort/yellowstone-club/\"> Yellowstone Club </a>],\n",
       " [<a class=\"h3\" href=\"https://www.skiresort.info/ski-resort/bald-mountain-sun-valley/\"> Bald Mountain – Sun Valley </a>],\n",
       " [<a class=\"h3\" href=\"https://www.skiresort.info/ski-resort/snowbird/\"> Snowbird </a>],\n",
       " [<a class=\"h3\" href=\"https://www.skiresort.info/ski-resort/schweitzer-mountain-resort/\"> Schweitzer Mountain Resort </a>],\n",
       " [<a class=\"h3\" href=\"https://www.skiresort.info/ski-resort/arapahoe-basin/\"> Arapahoe Basin </a>],\n",
       " [<a class=\"h3\" href=\"https://www.skiresort.info/ski-resort/mt-hood-meadows/\"> Mt. Hood Meadows </a>],\n",
       " [<a class=\"h3\" href=\"https://www.skiresort.info/ski-resort/stratton/\"> Stratton </a>],\n",
       " [<a class=\"h3\" href=\"https://www.skiresort.info/ski-resort/wenatchee-mission-ridge/\"> Wenatchee – Mission Ridge </a>],\n",
       " [<a class=\"h3\" href=\"https://www.skiresort.info/ski-resort/taos/\"> Taos </a>],\n",
       " [<a class=\"h3\" href=\"https://www.skiresort.info/ski-resort/mt-rose/\"> Mt. Rose </a>],\n",
       " [<a class=\"h3\" href=\"https://www.skiresort.info/ski-resort/aspen-mountain/\"> Aspen Mountain </a>],\n",
       " [<a class=\"h3\" href=\"https://www.skiresort.info/ski-resort/sugar-bowl/\"> Sugar Bowl </a>],\n",
       " [<a class=\"h3\" href=\"https://www.skiresort.info/ski-resort/whitefish-mountain-resort/\"> Whitefish Mountain Resort </a>],\n",
       " [<a class=\"h3\" href=\"https://www.skiresort.info/ski-resort/angel-fire/\"> Angel Fire </a>],\n",
       " [<a class=\"h3\" href=\"https://www.skiresort.info/ski-resort/wolf-creek/\"> Wolf Creek </a>],\n",
       " [<a class=\"h3\" href=\"https://www.skiresort.info/ski-resort/sugarbush/\"> Sugarbush </a>],\n",
       " [<a class=\"h3\" href=\"https://www.skiresort.info/ski-resort/purgatory-durango/\"> Purgatory – Durango </a>],\n",
       " [<a class=\"h3\" href=\"https://www.skiresort.info/ski-resort/sugarloaf/\"> Sugarloaf </a>],\n",
       " [<a class=\"h3\" href=\"https://www.skiresort.info/ski-resort/brighton/\"> Brighton </a>],\n",
       " [<a class=\"h3\" href=\"https://www.skiresort.info/ski-resort/okemo/\"> Okemo </a>],\n",
       " [<a class=\"h3\" href=\"https://www.skiresort.info/ski-resort/mt-baker/\"> Mt. Baker </a>],\n",
       " [<a class=\"h3\" href=\"https://www.skiresort.info/ski-resort/bolton-valley/\"> Bolton Valley </a>]]"
      ]
     },
     "execution_count": 102,
     "metadata": {},
     "output_type": "execute_result"
    }
   ],
   "source": [
    "resort"
   ]
  },
  {
   "cell_type": "code",
   "execution_count": 108,
   "metadata": {},
   "outputs": [
    {
     "data": {
      "text/plain": [
       "' Vail '"
      ]
     },
     "execution_count": 108,
     "metadata": {},
     "output_type": "execute_result"
    }
   ],
   "source": [
    "resort[0][0].text"
   ]
  },
  {
   "cell_type": "code",
   "execution_count": 111,
   "metadata": {},
   "outputs": [],
   "source": [
    "resort_names = []\n",
    "resort_links = []\n",
    "for x in range(len(resort)):\n",
    "    resort_names.append(resort[x][0].text)\n",
    "    resort_links.append(resort[x][0][\"href\"])"
   ]
  },
  {
   "cell_type": "code",
   "execution_count": 112,
   "metadata": {},
   "outputs": [
    {
     "data": {
      "text/plain": [
       "['https://www.skiresort.info/ski-resort/vail/',\n",
       " 'https://www.skiresort.info/ski-resort/telluride/',\n",
       " 'https://www.skiresort.info/ski-resort/beaver-creek/',\n",
       " 'https://www.skiresort.info/ski-resort/mammoth-mountain/',\n",
       " 'https://www.skiresort.info/ski-resort/snowmass/',\n",
       " 'https://www.skiresort.info/ski-resort/breckenridge/',\n",
       " 'https://www.skiresort.info/ski-resort/keystone/',\n",
       " 'https://www.skiresort.info/ski-resort/sunday-river/',\n",
       " 'https://www.skiresort.info/ski-resort/killington/',\n",
       " 'https://www.skiresort.info/ski-resort/heavenly/',\n",
       " 'https://www.skiresort.info/ski-resort/winter-park-resort/',\n",
       " 'https://www.skiresort.info/ski-resort/stowe/',\n",
       " 'https://www.skiresort.info/ski-resort/squaw-valley/',\n",
       " 'https://www.skiresort.info/ski-resort/steamboat/',\n",
       " 'https://www.skiresort.info/ski-resort/park-city/',\n",
       " 'https://www.skiresort.info/ski-resort/big-sky-resort/',\n",
       " 'https://www.skiresort.info/ski-resort/aspen-highlands/',\n",
       " 'https://www.skiresort.info/ski-resort/copper-mountain/',\n",
       " 'https://www.skiresort.info/ski-resort/alpine-meadows/',\n",
       " 'https://www.skiresort.info/ski-resort/alta/',\n",
       " 'https://www.skiresort.info/ski-resort/buttermilk-mountain/',\n",
       " 'https://www.skiresort.info/ski-resort/jackson-hole/',\n",
       " 'https://www.skiresort.info/ski-resort/deer-valley/',\n",
       " 'https://www.skiresort.info/ski-resort/crested-butte/',\n",
       " 'https://www.skiresort.info/ski-resort/powder-mountain/',\n",
       " 'https://www.skiresort.info/ski-resort/whiteface-lake-placid/',\n",
       " 'https://www.skiresort.info/ski-resort/northstar-california-resort/',\n",
       " 'https://www.skiresort.info/ski-resort/mt-bachelor/',\n",
       " 'https://www.skiresort.info/ski-resort/yellowstone-club/',\n",
       " 'https://www.skiresort.info/ski-resort/bald-mountain-sun-valley/',\n",
       " 'https://www.skiresort.info/ski-resort/snowbird/',\n",
       " 'https://www.skiresort.info/ski-resort/schweitzer-mountain-resort/',\n",
       " 'https://www.skiresort.info/ski-resort/arapahoe-basin/',\n",
       " 'https://www.skiresort.info/ski-resort/mt-hood-meadows/',\n",
       " 'https://www.skiresort.info/ski-resort/stratton/',\n",
       " 'https://www.skiresort.info/ski-resort/wenatchee-mission-ridge/',\n",
       " 'https://www.skiresort.info/ski-resort/taos/',\n",
       " 'https://www.skiresort.info/ski-resort/mt-rose/',\n",
       " 'https://www.skiresort.info/ski-resort/aspen-mountain/',\n",
       " 'https://www.skiresort.info/ski-resort/sugar-bowl/',\n",
       " 'https://www.skiresort.info/ski-resort/whitefish-mountain-resort/',\n",
       " 'https://www.skiresort.info/ski-resort/angel-fire/',\n",
       " 'https://www.skiresort.info/ski-resort/wolf-creek/',\n",
       " 'https://www.skiresort.info/ski-resort/sugarbush/',\n",
       " 'https://www.skiresort.info/ski-resort/purgatory-durango/',\n",
       " 'https://www.skiresort.info/ski-resort/sugarloaf/',\n",
       " 'https://www.skiresort.info/ski-resort/brighton/',\n",
       " 'https://www.skiresort.info/ski-resort/okemo/',\n",
       " 'https://www.skiresort.info/ski-resort/mt-baker/',\n",
       " 'https://www.skiresort.info/ski-resort/bolton-valley/']"
      ]
     },
     "execution_count": 112,
     "metadata": {},
     "output_type": "execute_result"
    }
   ],
   "source": [
    "# resort_names\n",
    "resort_links"
   ]
  },
  {
   "cell_type": "code",
   "execution_count": null,
   "metadata": {},
   "outputs": [],
   "source": [
    "# .find_all(\"a\", class_=\"h3\")"
   ]
  },
  {
   "cell_type": "code",
   "execution_count": null,
   "metadata": {},
   "outputs": [],
   "source": []
  }
 ],
 "metadata": {
  "kernelspec": {
   "display_name": "Python 3",
   "language": "python",
   "name": "python3"
  },
  "language_info": {
   "codemirror_mode": {
    "name": "ipython",
    "version": 3
   },
   "file_extension": ".py",
   "mimetype": "text/x-python",
   "name": "python",
   "nbconvert_exporter": "python",
   "pygments_lexer": "ipython3",
   "version": "3.8.5"
  }
 },
 "nbformat": 4,
 "nbformat_minor": 4
}
